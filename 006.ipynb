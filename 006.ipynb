{
 "cells": [
  {
   "cell_type": "code",
   "execution_count": 1,
   "metadata": {
    "collapsed": true,
    "pycharm": {
     "is_executing": false,
     "name": "#%%\n"
    }
   },
   "outputs": [],
   "source": [
    "int_data = 1                        #정수 선언\n",
    "float_data = 3.14                   #실수 언언\n",
    "complex_data = 1+5j                 #복소수 선언\n",
    "str_data1 = 'I love Python'         #문자열 선언(영문)\n",
    "str_data2 = \"반갑습니다\"             #문자열 선언(안글)\n",
    "list_data = [1.2,3]                 #리스트 선언\n",
    "tuple_data = (1,2,3)                #튜플 선언\n",
    "dict_data = {0:'False', 1:'True'}   #사전 선언"
   ]
  }
 ],
 "metadata": {
  "language_info": {
   "codemirror_mode": {
    "name": "ipython",
    "version": 2
   },
   "file_extension": ".py",
   "mimetype": "text/x-python",
   "name": "python",
   "nbconvert_exporter": "python",
   "pygments_lexer": "ipython2",
   "version": "2.7.6"
  },
  "kernelspec": {
   "name": "python3",
   "language": "python",
   "display_name": "Python 3"
  },
  "pycharm": {
   "stem_cell": {
    "cell_type": "raw",
    "source": [],
    "metadata": {
     "collapsed": false
    }
   }
  }
 },
 "nbformat": 4,
 "nbformat_minor": 0
}